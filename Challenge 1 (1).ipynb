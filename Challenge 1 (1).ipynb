{
 "cells": [
  {
   "cell_type": "markdown",
   "id": "cd374d53",
   "metadata": {},
   "source": [
    "# 1. Why python is popular in data science"
   ]
  },
  {
   "cell_type": "code",
   "execution_count": null,
   "id": "4c889416",
   "metadata": {},
   "outputs": [],
   "source": [
    "Mostly used for automatioN, Python is used for Full Stack, Data Analytics, Automation Testing, Cloud Computing"
   ]
  },
  {
   "cell_type": "markdown",
   "id": "3a996737",
   "metadata": {},
   "source": [
    "# why python is popular in data science"
   ]
  },
  {
   "cell_type": "code",
   "execution_count": 2,
   "id": "e0186df5",
   "metadata": {},
   "outputs": [
    {
     "name": "stdout",
     "output_type": "stream",
     "text": [
      "pritam\n"
     ]
    }
   ],
   "source": [
    "print('pritam')"
   ]
  },
  {
   "cell_type": "markdown",
   "id": "432fadde",
   "metadata": {},
   "source": [
    "# 3. Correct the following python line"
   ]
  },
  {
   "cell_type": "code",
   "execution_count": 3,
   "id": "06d8c170",
   "metadata": {},
   "outputs": [
    {
     "name": "stdout",
     "output_type": "stream",
     "text": [
      "Hi\n"
     ]
    }
   ],
   "source": [
    "print(\"Hi\")"
   ]
  },
  {
   "cell_type": "markdown",
   "id": "04188a96",
   "metadata": {},
   "source": [
    "# 4. fill the black in the following python line , replace ___ with python in-built function5. add single line comments in the follwing line\n"
   ]
  },
  {
   "cell_type": "code",
   "execution_count": 4,
   "id": "d63939e1",
   "metadata": {},
   "outputs": [
    {
     "name": "stdout",
     "output_type": "stream",
     "text": [
      "hi\n"
     ]
    }
   ],
   "source": [
    "print('hi')"
   ]
  },
  {
   "cell_type": "markdown",
   "id": "a4923290",
   "metadata": {},
   "source": [
    "# 5. add single line comments in the follwing line"
   ]
  },
  {
   "cell_type": "code",
   "execution_count": 6,
   "id": "8162ede7",
   "metadata": {},
   "outputs": [],
   "source": [
    "#this is comment"
   ]
  },
  {
   "cell_type": "markdown",
   "id": "ca2432d1",
   "metadata": {},
   "source": [
    "# 6. add multiple comments in the follwing line"
   ]
  },
  {
   "cell_type": "code",
   "execution_count": null,
   "id": "b917c69c",
   "metadata": {},
   "outputs": [],
   "source": [
    "'''\n",
    "this is python ide\n",
    "you can write code and create markdwon using this ide\n",
    "you can store input and output as it is in this ide"
   ]
  },
  {
   "cell_type": "markdown",
   "id": "5282e672",
   "metadata": {},
   "source": [
    "# 7. Do the addition of any two numbers and display the output\n"
   ]
  },
  {
   "cell_type": "markdown",
   "id": "30f5bc18",
   "metadata": {},
   "source": [
    "# 10+5"
   ]
  },
  {
   "cell_type": "markdown",
   "id": "84bc2580",
   "metadata": {},
   "source": [
    "# 8. Correct the following python code\n"
   ]
  },
  {
   "cell_type": "code",
   "execution_count": null,
   "id": "a2b31619",
   "metadata": {},
   "outputs": [],
   "source": [
    "my_first_number = 10"
   ]
  },
  {
   "cell_type": "markdown",
   "id": "f5640512",
   "metadata": {},
   "source": [
    "# 9. create new variable named- myvar and assign string value value"
   ]
  },
  {
   "cell_type": "code",
   "execution_count": null,
   "id": "c8b2aae8",
   "metadata": {},
   "outputs": [],
   "source": [
    "_myvar= 'viki'"
   ]
  },
  {
   "cell_type": "markdown",
   "id": "32e355c6",
   "metadata": {},
   "source": [
    "# 10. create new variable named- my_number and assign int value 17\n"
   ]
  },
  {
   "cell_type": "code",
   "execution_count": null,
   "id": "412cb9dd",
   "metadata": {},
   "outputs": [],
   "source": [
    "my_number=17"
   ]
  },
  {
   "cell_type": "markdown",
   "id": "0450336c",
   "metadata": {},
   "source": [
    "# 11. Display/print the sum of 5 + 10, using two variables: x and y.\n"
   ]
  },
  {
   "cell_type": "code",
   "execution_count": 10,
   "id": "7a03dad8",
   "metadata": {},
   "outputs": [
    {
     "name": "stdout",
     "output_type": "stream",
     "text": [
      "15\n"
     ]
    }
   ],
   "source": [
    "x=5\n",
    "y=10\n",
    "print(x+y)"
   ]
  },
  {
   "cell_type": "markdown",
   "id": "f7743632",
   "metadata": {},
   "source": [
    "# 12. Create a variable called z, assign a + b to it, and display the result.\n"
   ]
  },
  {
   "cell_type": "code",
   "execution_count": 11,
   "id": "519798a7",
   "metadata": {},
   "outputs": [
    {
     "name": "stdout",
     "output_type": "stream",
     "text": [
      "15\n"
     ]
    }
   ],
   "source": [
    "x=5\n",
    "y=10\n",
    "z=x+y\n",
    "print(z)"
   ]
  },
  {
   "cell_type": "markdown",
   "id": "e1605503",
   "metadata": {},
   "source": [
    "# 13. Insert the correct syntax to assign the same value to all three variables in one code line. and display the values of a , b and c\n"
   ]
  },
  {
   "cell_type": "code",
   "execution_count": 12,
   "id": "e6842cc6",
   "metadata": {},
   "outputs": [],
   "source": [
    "b=c=a=\"abhi\""
   ]
  },
  {
   "cell_type": "code",
   "execution_count": 13,
   "id": "936dadef",
   "metadata": {},
   "outputs": [
    {
     "name": "stdout",
     "output_type": "stream",
     "text": [
      "abhi abhi\n"
     ]
    }
   ],
   "source": [
    "print(a,b)"
   ]
  },
  {
   "cell_type": "code",
   "execution_count": null,
   "id": "0a8255b9",
   "metadata": {},
   "outputs": [],
   "source": []
  }
 ],
 "metadata": {
  "kernelspec": {
   "display_name": "Python 3 (ipykernel)",
   "language": "python",
   "name": "python3"
  },
  "language_info": {
   "codemirror_mode": {
    "name": "ipython",
    "version": 3
   },
   "file_extension": ".py",
   "mimetype": "text/x-python",
   "name": "python",
   "nbconvert_exporter": "python",
   "pygments_lexer": "ipython3",
   "version": "3.9.12"
  }
 },
 "nbformat": 4,
 "nbformat_minor": 5
}
